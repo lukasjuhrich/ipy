{
 "cells": [
  {
   "cell_type": "markdown",
   "metadata": {},
   "source": [
    "## Simple solutions to the EFE"
   ]
  },
  {
   "cell_type": "markdown",
   "metadata": {},
   "source": [
    "Here, we want to establish some simple solutions to the EFE.\n",
    "\n",
    "### Flat minkowski space\n",
    "$$\n",
    "ds^2 = - dt^2 + dx^2 + dy^2 + dz^2 = -dt^2 + dr^2 + r^2 \\left( d\\theta^2 + \\sin^2\\theta d\\varphi^2\\right)\n",
    "$$\n"
   ]
  },
  {
   "cell_type": "markdown",
   "metadata": {},
   "source": [
    "The simplest next generalization is to itnroduce some parameters.  For example, let's introduce a time dilation $\\alpha$ as well as some other, although only _centrally symmetric_, parameters $\\beta,\\:\\gamma$:\n",
    "\n",
    "$$\n",
    "ds^2 = -\\alpha dt^2 + \\beta dr^2 + \\gamma r^2 \\left( d\\theta^2 + \\sin^2\\theta d\\varphi^2\\right)\n",
    "$$"
   ]
  },
  {
   "cell_type": "markdown",
   "metadata": {},
   "source": [
    "Let's play around with sympy's diffgeo-module for a while."
   ]
  },
  {
   "cell_type": "code",
   "execution_count": 58,
   "metadata": {
    "collapsed": false
   },
   "outputs": [],
   "source": [
    "from sympy import Function, symbols, sin, cos, roots\n",
    "from sympy.diffgeom import Manifold, Patch, CoordSystem, Differential, \\\n",
    "    metric_to_Christoffel_1st, metric_to_Christoffel_2nd, \\\n",
    "    metric_to_Riemann_components, metric_to_Ricci_components, \\\n",
    "    TensorProduct as TP, twoform_to_matrix\n",
    "from sympy.interactive import init_printing\n",
    "from sympy.matrices import Matrix, eye, diag\n",
    "from sympy import mpmath\n",
    "init_printing()"
   ]
  },
  {
   "cell_type": "code",
   "execution_count": 3,
   "metadata": {
    "collapsed": false
   },
   "outputs": [
    {
     "name": "stdout",
     "output_type": "stream",
     "text": [
      "d(g(t, x, y, z))\n"
     ]
    }
   ],
   "source": [
    "g = Function('g')\n",
    "x, y, z, t = symbols('x y z t')\n",
    "field = g(t, x, y, z)\n",
    "dg = Differential(field)\n",
    "print(dg)"
   ]
  },
  {
   "cell_type": "code",
   "execution_count": 5,
   "metadata": {
    "collapsed": false
   },
   "outputs": [],
   "source": [
    "m = Manifold('m', 3)\n",
    "p = Patch('p', m)\n",
    "rect = CoordSystem('rect', p, ['x', 'y', 'z'])\n",
    "polar = CoordSystem('polar', p, ['r', 'θ', 'φ'])\n",
    "dx, dy, dz = rect.base_oneforms()\n",
    "r, θ, φ = symbols('r θ φ')\n",
    "polar.connect_to(rect, [r, θ, φ], [r * sin(θ) * cos(φ), r * sin(θ) * sin(φ), r * cos(θ)], inverse=False)"
   ]
  },
  {
   "cell_type": "code",
   "execution_count": 6,
   "metadata": {
    "collapsed": false
   },
   "outputs": [
    {
     "data": {
      "image/png": "[encoded data removed]",
      "text/latex": [
       "$$\\left [ \\boldsymbol{\\mathrm{r}}, \\quad \\boldsymbol{\\mathrm{θ}}, \\quad \\boldsymbol{\\mathrm{φ}}\\right ]$$"
      ],
      "text/plain": [
       "[r, θ, φ]"
      ]
     },
     "execution_count": 6,
     "metadata": {},
     "output_type": "execute_result"
    }
   ],
   "source": [
    "dr, dθ, dφ = polar.base_oneforms()\n",
    "polar.coord_functions()"
   ]
  },
  {
   "cell_type": "markdown",
   "metadata": {},
   "source": [
    "### Short test\n",
    "Let's test whether our tiny little coordinate transformation was correct by having a look at the jacobian:"
   ]
  },
  {
   "cell_type": "code",
   "execution_count": 7,
   "metadata": {
    "collapsed": false
   },
   "outputs": [
    {
     "data": {
      "image/png": "[encoded data removed]",
      "text/latex": [
       "$$\\left[\\begin{matrix}\\sin{\\left (\\boldsymbol{\\mathrm{θ}} \\right )} \\cos{\\left (\\boldsymbol{\\mathrm{φ}} \\right )} & \\cos{\\left (\\boldsymbol{\\mathrm{θ}} \\right )} \\cos{\\left (\\boldsymbol{\\mathrm{φ}} \\right )} \\boldsymbol{\\mathrm{r}} & - \\sin{\\left (\\boldsymbol{\\mathrm{θ}} \\right )} \\sin{\\left (\\boldsymbol{\\mathrm{φ}} \\right )} \\boldsymbol{\\mathrm{r}}\\\\\\sin{\\left (\\boldsymbol{\\mathrm{θ}} \\right )} \\sin{\\left (\\boldsymbol{\\mathrm{φ}} \\right )} & \\sin{\\left (\\boldsymbol{\\mathrm{φ}} \\right )} \\cos{\\left (\\boldsymbol{\\mathrm{θ}} \\right )} \\boldsymbol{\\mathrm{r}} & \\sin{\\left (\\boldsymbol{\\mathrm{θ}} \\right )} \\cos{\\left (\\boldsymbol{\\mathrm{φ}} \\right )} \\boldsymbol{\\mathrm{r}}\\\\\\cos{\\left (\\boldsymbol{\\mathrm{θ}} \\right )} & - \\sin{\\left (\\boldsymbol{\\mathrm{θ}} \\right )} \\boldsymbol{\\mathrm{r}} & 0\\end{matrix}\\right]$$"
      ],
      "text/plain": [
       "⎡sin(θ)⋅cos(φ)  cos(θ)⋅cos(φ)⋅r  -sin(θ)⋅sin(φ)⋅r⎤\n",
       "⎢                                                ⎥\n",
       "⎢sin(θ)⋅sin(φ)  sin(φ)⋅cos(θ)⋅r  sin(θ)⋅cos(φ)⋅r ⎥\n",
       "⎢                                                ⎥\n",
       "⎣   cos(θ)         -sin(θ)⋅r            0        ⎦"
      ]
     },
     "execution_count": 7,
     "metadata": {},
     "output_type": "execute_result"
    }
   ],
   "source": [
    "j = polar.jacobian(rect, polar.coord_functions())\n",
    "j"
   ]
  },
  {
   "cell_type": "code",
   "execution_count": 8,
   "metadata": {
    "collapsed": false
   },
   "outputs": [
    {
     "data": {
      "image/png": "[encoded data removed]",
      "text/latex": [
       "$$\\sin{\\left (\\boldsymbol{\\mathrm{θ}} \\right )} \\boldsymbol{\\mathrm{r}}^{2}$$"
      ],
      "text/plain": [
       "        2\n",
       "sin(θ)⋅r "
      ]
     },
     "execution_count": 8,
     "metadata": {},
     "output_type": "execute_result"
    }
   ],
   "source": [
    "j.det().simplify()"
   ]
  },
  {
   "cell_type": "code",
   "execution_count": 10,
   "metadata": {
    "collapsed": true
   },
   "outputs": [],
   "source": [
    "g = TP(dx, dx) + TP(dy, dy) + TP(dz, dz)"
   ]
  },
  {
   "cell_type": "code",
   "execution_count": 11,
   "metadata": {
    "collapsed": false
   },
   "outputs": [
    {
     "data": {
      "image/png": "[encoded data removed]",
      "text/latex": [
       "$$\\left[\\begin{matrix}- \\sin{\\left (\\boldsymbol{\\mathrm{θ}} \\right )} \\sin{\\left (\\boldsymbol{\\mathrm{φ}} \\right )} \\boldsymbol{\\mathrm{r}} \\mathrm{d}φ + \\sin{\\left (\\boldsymbol{\\mathrm{θ}} \\right )} \\cos{\\left (\\boldsymbol{\\mathrm{φ}} \\right )} \\mathrm{d}r + \\cos{\\left (\\boldsymbol{\\mathrm{θ}} \\right )} \\cos{\\left (\\boldsymbol{\\mathrm{φ}} \\right )} \\boldsymbol{\\mathrm{r}} \\mathrm{d}θ\\\\\\sin{\\left (\\boldsymbol{\\mathrm{θ}} \\right )} \\sin{\\left (\\boldsymbol{\\mathrm{φ}} \\right )} \\mathrm{d}r + \\sin{\\left (\\boldsymbol{\\mathrm{θ}} \\right )} \\cos{\\left (\\boldsymbol{\\mathrm{φ}} \\right )} \\boldsymbol{\\mathrm{r}} \\mathrm{d}φ + \\sin{\\left (\\boldsymbol{\\mathrm{φ}} \\right )} \\cos{\\left (\\boldsymbol{\\mathrm{θ}} \\right )} \\boldsymbol{\\mathrm{r}} \\mathrm{d}θ\\\\- \\sin{\\left (\\boldsymbol{\\mathrm{θ}} \\right )} \\boldsymbol{\\mathrm{r}} \\mathrm{d}θ + \\cos{\\left (\\boldsymbol{\\mathrm{θ}} \\right )} \\mathrm{d}r\\end{matrix}\\right]$$"
      ],
      "text/plain": [
       "⎡-sin(θ)⋅sin(φ)⋅r⋅ⅆ φ + sin(θ)⋅cos(φ)⋅ⅆ r + cos(θ)⋅cos(φ)⋅r⋅ⅆ θ⎤\n",
       "⎢                                                              ⎥\n",
       "⎢sin(θ)⋅sin(φ)⋅ⅆ r + sin(θ)⋅cos(φ)⋅r⋅ⅆ φ + sin(φ)⋅cos(θ)⋅r⋅ⅆ θ ⎥\n",
       "⎢                                                              ⎥\n",
       "⎣                  -sin(θ)⋅r⋅ⅆ θ + cos(θ)⋅ⅆ r                  ⎦"
      ]
     },
     "execution_count": 11,
     "metadata": {},
     "output_type": "execute_result"
    }
   ],
   "source": [
    "v = Matrix(3, 1, polar.base_oneforms())\n",
    "metric = j * v\n",
    "metric.simplify()\n",
    "metric"
   ]
  },
  {
   "cell_type": "code",
   "execution_count": 14,
   "metadata": {
    "collapsed": false
   },
   "outputs": [
    {
     "data": {
      "image/png": "[encoded data removed]",
      "text/latex": [
       "$$\\left[\\begin{matrix}1 & 0 & 0\\\\0 & 1 & 0\\\\0 & 0 & 1\\end{matrix}\\right]$$"
      ],
      "text/plain": [
       "⎡1  0  0⎤\n",
       "⎢       ⎥\n",
       "⎢0  1  0⎥\n",
       "⎢       ⎥\n",
       "⎣0  0  1⎦"
      ]
     },
     "execution_count": 14,
     "metadata": {},
     "output_type": "execute_result"
    }
   ],
   "source": [
    "# Building the minkowski metric\n",
    "eta = diag(eye(3))\n",
    "eta"
   ]
  },
  {
   "cell_type": "code",
   "execution_count": 35,
   "metadata": {
    "collapsed": false
   },
   "outputs": [
    {
     "data": {
      "image/png": "[encoded data removed]",
      "text/latex": [
       "$$\\left[\\begin{matrix}\\frac{1}{- \\frac{c}{\\boldsymbol{\\mathrm{r}}} + 1} & 0 & 0\\\\0 & \\boldsymbol{\\mathrm{r}}^{2} & 0\\\\0 & 0 & \\sin^{2}{\\left (θ \\right )} \\boldsymbol{\\mathrm{r}}^{2}\\end{matrix}\\right]$$"
      ],
      "text/plain": [
       "⎡   1                   ⎤\n",
       "⎢───────  0       0     ⎥\n",
       "⎢  c                    ⎥\n",
       "⎢- ─ + 1                ⎥\n",
       "⎢  r                    ⎥\n",
       "⎢                       ⎥\n",
       "⎢          2            ⎥\n",
       "⎢   0     r       0     ⎥\n",
       "⎢                       ⎥\n",
       "⎢                2     2⎥\n",
       "⎣   0     0   sin (θ)⋅r ⎦"
      ]
     },
     "execution_count": 35,
     "metadata": {},
     "output_type": "execute_result"
    }
   ],
   "source": [
    "# polar_g = (j.transpose() * eta * j).applyfunc(lambda x: x.simplify())\n",
    "r = polar.coord_functions()[0]\n",
    "c = symbols('c')\n",
    "polar_g = diag(1/(1-c/r), r**2, sin(θ)**2 * r**2)\n",
    "polar_g"
   ]
  },
  {
   "cell_type": "code",
   "execution_count": 21,
   "metadata": {
    "collapsed": false
   },
   "outputs": [
    {
     "data": {
      "image/png": "[encoded data removed]",
      "text/latex": [
       "$$\\sin^{2}{\\left (θ \\right )} \\boldsymbol{\\mathrm{r}}^{2} \\mathrm{d}φ\\otimes\\mathrm{d}φ + \\boldsymbol{\\mathrm{r}}^{2} \\mathrm{d}θ\\otimes\\mathrm{d}θ + \\frac{\\mathrm{d}r\\otimes\\mathrm{d}r}{- \\frac{c}{\\boldsymbol{\\mathrm{r}}} + 1}$$"
      ],
      "text/plain": [
       "   2     2                          2                         TensorProduct(dr\n",
       "sin (θ)⋅r ⋅TensorProduct(dφ, dφ) + r ⋅TensorProduct(dθ, dθ) + ────────────────\n",
       "                                                                       c      \n",
       "                                                                     - ─ + 1  \n",
       "                                                                       r      \n",
       "\n",
       ", dr)\n",
       "─────\n",
       "     \n",
       "     \n",
       "     "
      ]
     },
     "execution_count": 21,
     "metadata": {},
     "output_type": "execute_result"
    }
   ],
   "source": [
    "# polar_forms_vector = Matrix(3, 1, polar.base_oneforms())\n",
    "# doesn't work TensorProduct(polar_forms_vector, polar_forms_vector)\n",
    "metric = sum(polar_g[i,i] * TP(polar.base_oneform(i), polar.base_oneform(i)) for i in range(3))\n",
    "metric"
   ]
  },
  {
   "cell_type": "code",
   "execution_count": 121,
   "metadata": {
    "collapsed": false
   },
   "outputs": [
    {
     "name": "stdout",
     "output_type": "stream",
     "text": [
      "Matrix([[0, 0, 0], [0, 0, 0], [0, 0, 0]])\n",
      "Matrix([[0, -c/(2*r), 0], [c/(2*r), 0, 0], [0, 0, 0]])\n",
      "Matrix([[0, 0, -c*sin(θ)**2/(2*r)], [0, 0, 0], [c*sin(θ)**2/(2*r), 0, 0]])\n",
      "Matrix([[0, c/(2*(-c + r)*r**2), 0], [c/(2*(c - r)*r**2), 0, 0], [0, 0, 0]])\n",
      "Matrix([[0, 0, 0], [0, 0, 0], [0, 0, 0]])\n",
      "Matrix([[0, 0, 0], [0, 0, (c - r)*sin(θ)**2/r], [0, (-c + r)*sin(θ)**2/r, 0]])\n",
      "Matrix([[0, 0, c/(2*(-c + r)*r**2)], [0, 0, 0], [c/(2*(c - r)*r**2), 0, 0]])\n",
      "Matrix([[0, 0, 0], [0, 0, (-c + r)/r], [0, (c - r)/r, 0]])\n",
      "Matrix([[0, 0, 0], [0, 0, 0], [0, 0, 0]])\n"
     ]
    }
   ],
   "source": [
    "riemann_raw = metric_to_Riemann_components(metric)\n",
    "riemann = riemann_raw.applyfunc(lambda x: x.simplify())\n",
    "for i in range(3):\n",
    "    for j in range(3):\n",
    "        print(riemann[i, j, :, :].tomatrix())\n"
   ]
  },
  {
   "cell_type": "code",
   "execution_count": 38,
   "metadata": {
    "collapsed": false
   },
   "outputs": [
    {
     "data": {
      "image/png": "[encoded data removed]",
      "text/latex": [
       "$$\\left[\\begin{matrix}- \\frac{c \\left(- c + \\boldsymbol{\\mathrm{r}}\\right)}{\\left(- \\frac{c}{\\boldsymbol{\\mathrm{r}}} + 1\\right)^{2} \\boldsymbol{\\mathrm{r}}^{4}} & 0 & 0\\\\0 & - \\frac{c \\left(- c + \\boldsymbol{\\mathrm{r}}\\right) \\left(c - \\boldsymbol{\\mathrm{r}}\\right)}{2 \\left(- \\frac{c}{\\boldsymbol{\\mathrm{r}}} + 1\\right)^{2} \\boldsymbol{\\mathrm{r}}^{3}} - 1 & 0\\\\0 & 0 & \\frac{c \\left(- c + \\boldsymbol{\\mathrm{r}}\\right)^{2} \\sin^{2}{\\left (θ \\right )}}{2 \\left(- \\frac{c}{\\boldsymbol{\\mathrm{r}}} + 1\\right)^{2} \\boldsymbol{\\mathrm{r}}^{3}} - \\sin^{2}{\\left (θ \\right )}\\end{matrix}\\right]$$"
      ],
      "text/plain": [
       "⎡ -c⋅(-c + r)                                                          ⎤\n",
       "⎢─────────────             0                            0              ⎥\n",
       "⎢         2                                                            ⎥\n",
       "⎢⎛  c    ⎞   4                                                         ⎥\n",
       "⎢⎜- ─ + 1⎟ ⋅r                                                          ⎥\n",
       "⎢⎝  r    ⎠                                                             ⎥\n",
       "⎢                                                                      ⎥\n",
       "⎢                 c⋅(-c + r)⋅(c - r)                                   ⎥\n",
       "⎢      0        - ────────────────── - 1                0              ⎥\n",
       "⎢                             2                                        ⎥\n",
       "⎢                    ⎛  c    ⎞   3                                     ⎥\n",
       "⎢                  2⋅⎜- ─ + 1⎟ ⋅r                                      ⎥\n",
       "⎢                    ⎝  r    ⎠                                         ⎥\n",
       "⎢                                                                      ⎥\n",
       "⎢                                                   2    2             ⎥\n",
       "⎢                                         c⋅(-c + r) ⋅sin (θ)      2   ⎥\n",
       "⎢      0                   0              ─────────────────── - sin (θ)⎥\n",
       "⎢                                                      2               ⎥\n",
       "⎢                                             ⎛  c    ⎞   3            ⎥\n",
       "⎢                                           2⋅⎜- ─ + 1⎟ ⋅r             ⎥\n",
       "⎣                                             ⎝  r    ⎠                ⎦"
      ]
     },
     "execution_count": 38,
     "metadata": {},
     "output_type": "execute_result"
    }
   ],
   "source": [
    "ricci_raw = metric_to_Ricci_components(metric).tomatrix()\n",
    "ricci_raw"
   ]
  },
  {
   "cell_type": "markdown",
   "metadata": {},
   "source": [
    "The Ricci-Tensor is not zero anymore!\n",
    "Let's simplify:"
   ]
  },
  {
   "cell_type": "code",
   "execution_count": 39,
   "metadata": {
    "collapsed": false
   },
   "outputs": [
    {
     "data": {
      "image/png": "[encoded data removed]",
      "text/latex": [
       "$$\\left[\\begin{matrix}\\frac{c}{\\left(c - \\boldsymbol{\\mathrm{r}}\\right) \\boldsymbol{\\mathrm{r}}^{2}} & 0 & 0\\\\0 & \\frac{1}{\\boldsymbol{\\mathrm{r}}} \\left(\\frac{c}{2} - \\boldsymbol{\\mathrm{r}}\\right) & 0\\\\0 & 0 & \\frac{1}{\\boldsymbol{\\mathrm{r}}} \\left(\\frac{c}{2} - \\boldsymbol{\\mathrm{r}}\\right) \\sin^{2}{\\left (θ \\right )}\\end{matrix}\\right]$$"
      ],
      "text/plain": [
       "⎡    c                             ⎤\n",
       "⎢──────────    0           0       ⎥\n",
       "⎢         2                        ⎥\n",
       "⎢(c - r)⋅r                         ⎥\n",
       "⎢                                  ⎥\n",
       "⎢            c                     ⎥\n",
       "⎢            ─ - r                 ⎥\n",
       "⎢            2                     ⎥\n",
       "⎢    0       ─────         0       ⎥\n",
       "⎢              r                   ⎥\n",
       "⎢                                  ⎥\n",
       "⎢                   ⎛c    ⎞    2   ⎥\n",
       "⎢                   ⎜─ - r⎟⋅sin (θ)⎥\n",
       "⎢                   ⎝2    ⎠        ⎥\n",
       "⎢    0         0    ───────────────⎥\n",
       "⎣                          r       ⎦"
      ]
     },
     "execution_count": 39,
     "metadata": {},
     "output_type": "execute_result"
    }
   ],
   "source": [
    "ricci = ricci_raw.applyfunc(lambda x: x.simplify())\n",
    "ricci"
   ]
  },
  {
   "cell_type": "code",
   "execution_count": 37,
   "metadata": {
    "collapsed": false
   },
   "outputs": [
    {
     "data": {
      "image/png": "[encoded data removed]",
      "text/latex": [
       "$$\\frac{c}{\\left(c - \\boldsymbol{\\mathrm{r}}\\right) \\boldsymbol{\\mathrm{r}}^{2}} + \\frac{1}{\\boldsymbol{\\mathrm{r}}} \\left(\\frac{c}{2} - \\boldsymbol{\\mathrm{r}}\\right) \\sin^{2}{\\left (θ \\right )} + \\frac{1}{\\boldsymbol{\\mathrm{r}}} \\left(\\frac{c}{2} - \\boldsymbol{\\mathrm{r}}\\right)$$"
      ],
      "text/plain": [
       "             ⎛c    ⎞    2      c    \n",
       "             ⎜─ - r⎟⋅sin (θ)   ─ - r\n",
       "    c        ⎝2    ⎠           2    \n",
       "────────── + ─────────────── + ─────\n",
       "         2          r            r  \n",
       "(c - r)⋅r                           "
      ]
     },
     "execution_count": 37,
     "metadata": {},
     "output_type": "execute_result"
    }
   ],
   "source": [
    "R = ricci.trace()\n",
    "R"
   ]
  },
  {
   "cell_type": "code",
   "execution_count": 122,
   "metadata": {
    "collapsed": true
   },
   "outputs": [],
   "source": [
    "G, M, c_ = symbols('G M c')"
   ]
  },
  {
   "cell_type": "code",
   "execution_count": 127,
   "metadata": {
    "collapsed": false
   },
   "outputs": [
    {
     "data": {
      "image/png": "[encoded data removed]",
      "text/latex": [
       "$$\\frac{1}{c^{2} \\left(2 G M - c^{2} \\boldsymbol{\\mathrm{r}}\\right) \\boldsymbol{\\mathrm{r}}^{2}} \\left(2 G M c^{2} + \\left(2 G M - c^{2} \\boldsymbol{\\mathrm{r}}\\right) \\left(G M - c^{2} \\boldsymbol{\\mathrm{r}} + \\left(G M - c^{2} \\boldsymbol{\\mathrm{r}}\\right) \\sin^{2}{\\left (θ \\right )}\\right) \\boldsymbol{\\mathrm{r}}\\right)$$"
      ],
      "text/plain": [
       "       2   ⎛         2  ⎞ ⎛       2     ⎛       2  ⎞    2   ⎞  \n",
       "2⋅G⋅M⋅c  + ⎝2⋅G⋅M - c ⋅r⎠⋅⎝G⋅M - c ⋅r + ⎝G⋅M - c ⋅r⎠⋅sin (θ)⎠⋅r\n",
       "───────────────────────────────────────────────────────────────\n",
       "                       2 ⎛         2  ⎞  2                     \n",
       "                      c ⋅⎝2⋅G⋅M - c ⋅r⎠⋅r                      "
      ]
     },
     "execution_count": 127,
     "metadata": {},
     "output_type": "execute_result"
    }
   ],
   "source": [
    "R.subs({c: 2*G*M/(c**2)}).simplify()"
   ]
  }
 ],
 "metadata": {
  "kernelspec": {
   "display_name": "Python 3",
   "language": "python",
   "name": "python3"
  },
  "language_info": {
   "codemirror_mode": {
    "name": "ipython",
    "version": 3
   },
   "file_extension": ".py",
   "mimetype": "text/x-python",
   "name": "python",
   "nbconvert_exporter": "python",
   "pygments_lexer": "ipython3",
   "version": "3.5.2"
  }
 },
 "nbformat": 4,
 "nbformat_minor": 0
}
