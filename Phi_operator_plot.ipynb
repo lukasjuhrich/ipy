{
 "cells": [
  {
   "cell_type": "code",
   "execution_count": 49,
   "metadata": {
    "collapsed": false
   },
   "outputs": [],
   "source": [
    "%matplotlib inline\n",
    "import matplotlib.pyplot as plt"
   ]
  },
  {
   "cell_type": "code",
   "execution_count": 50,
   "metadata": {
    "collapsed": false
   },
   "outputs": [],
   "source": [
    "def Φ(f, n=1):\n",
    "    if n > 1:\n",
    "        return Φ(Φ(f), n-1)\n",
    "    elif n == 1:\n",
    "        def Φ_f(x):\n",
    "            if 0 <= x <= 1/3:\n",
    "                return 1/2 * f(3*x)\n",
    "            elif 1/3 <= x <= 2/3:\n",
    "                return 1/2 * f(1)\n",
    "            elif 2/3 <= x <= 1:\n",
    "                return 1/2 * f(3*(x-2/3)) + 1/2 * f(1)\n",
    "            else:\n",
    "                raise ValueError('x must be in [0,1]!')\n",
    "        return Φ_f\n",
    "    else:\n",
    "        raise ValueError('n must be ≥ 1')"
   ]
  },
  {
   "cell_type": "code",
   "execution_count": 51,
   "metadata": {
    "collapsed": true
   },
   "outputs": [],
   "source": [
    "def id(x):\n",
    "    return x"
   ]
  },
  {
   "cell_type": "code",
   "execution_count": 57,
   "metadata": {
    "collapsed": false
   },
   "outputs": [
    {
     "data": {
      "image/png": "[encoded data removed]",
      "text/plain": [
       "<matplotlib.figure.Figure at 0x7f8965f6cd68>"
      ]
     },
     "metadata": {},
     "output_type": "display_data"
    }
   ],
   "source": [
    "pts = [x/100 for x in range(0, 100)]\n",
    "for i in range(1, 10):\n",
    "    plt.plot(pts, [Φ(id, i)(x) for x in pts])"
   ]
  },
  {
   "cell_type": "markdown",
   "metadata": {
    "collapsed": true
   },
   "source": [
    "# Goal of this notebook\n",
    "\n",
    "We want to plot:\n",
    "\n",
    "$$ (\\Phi[f])(x) := \\left\\{ \n",
    "\\begin{array}{l@{\\quad:\\quad}l}\n",
    "\\frac{1}{2}f(3x) & 0 \\le x \\le \\frac{1}{3} \\\\\n",
    "\\frac{1}{2}f(1) & \\frac{1}{3} \\le x \\le \\frac{2}{3} \\\\\n",
    "\\frac{1}{2}f(3(x-\\frac{2}{3}))+\\frac{1}{2}f(1) & \\frac{2}{3} \\le x \\le 1\n",
    "\\end{array}\\right. $$\n",
    "\n",
    "Or better: $\\Phi^n[f],\\quad n\\in\\mathbb{N}$\n"
   ]
  },
  {
   "cell_type": "code",
   "execution_count": null,
   "metadata": {
    "collapsed": true
   },
   "outputs": [],
   "source": []
  },
  {
   "cell_type": "code",
   "execution_count": null,
   "metadata": {
    "collapsed": true
   },
   "outputs": [],
   "source": []
  }
 ],
 "metadata": {
  "kernelspec": {
   "display_name": "Python 3",
   "language": "python",
   "name": "python3"
  },
  "language_info": {
   "codemirror_mode": {
    "name": "ipython",
    "version": 3
   },
   "file_extension": ".py",
   "mimetype": "text/x-python",
   "name": "python",
   "nbconvert_exporter": "python",
   "pygments_lexer": "ipython3",
   "version": "3.4.3"
  }
 },
 "nbformat": 4,
 "nbformat_minor": 0
}
