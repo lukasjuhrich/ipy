{
 "cells": [
  {
   "cell_type": "markdown",
   "metadata": {},
   "source": [
    "# Git Log analyzation\n",
    "\n",
    "With git, we can turn log timestamps into csv-like data as follows:\n",
    "\n",
    "```shell\n",
    "git log --pretty=\"%ad%x09%aN%x09%ae\" > $out_path/pycroft.csv\n",
    "```\n",
    "\n",
    "Here, `%ad` signifies for the date, `%aN` the Name, and `%ae` the e-mail."
   ]
  },
  {
   "cell_type": "code",
   "execution_count": 2,
   "metadata": {},
   "outputs": [],
   "source": [
    "import pandas as pd\n",
    "from ipywidgets import interact, interactive, fixed, interact_manual\n",
    "%matplotlib inline\n",
    "filename = './pycroft.csv'\n",
    "repo_url = 'https://github.com/agdsn/pycroft.git'"
   ]
  },
  {
   "cell_type": "code",
   "execution_count": 182,
   "metadata": {},
   "outputs": [
    {
     "name": "stdout",
     "output_type": "stream",
     "text": [
      "Writing to /home/lukas/code/ipy/pycroft.csv\n"
     ]
    }
   ],
   "source": [
    "%%bash -s $repo_url $filename\n",
    "out_dir=\"./repo.git\"\n",
    "out_file=$(realpath $2)\n",
    "echo \"Writing to $out_file\"\n",
    "rm -rf $out_dir\n",
    "git clone --bare -q $1 $out_dir\n",
    "(cd $out_dir && git log --pretty=\"%ad,%aN,%ae\" > $out_file)"
   ]
  },
  {
   "cell_type": "code",
   "execution_count": 3,
   "metadata": {},
   "outputs": [],
   "source": [
    "git_log = pd.read_csv(filename, sep=',', encoding=\"utf-8\", header=None, names=['timestamp', 'author', 'email'])"
   ]
  },
  {
   "cell_type": "code",
   "execution_count": 4,
   "metadata": {},
   "outputs": [
    {
     "data": {
      "text/html": [
       "<div>\n",
       "<style scoped>\n",
       "    .dataframe tbody tr th:only-of-type {\n",
       "        vertical-align: middle;\n",
       "    }\n",
       "\n",
       "    .dataframe tbody tr th {\n",
       "        vertical-align: top;\n",
       "    }\n",
       "\n",
       "    .dataframe thead th {\n",
       "        text-align: right;\n",
       "    }\n",
       "</style>\n",
       "<table border=\"1\" class=\"dataframe\">\n",
       "  <thead>\n",
       "    <tr style=\"text-align: right;\">\n",
       "      <th></th>\n",
       "      <th>timestamp</th>\n",
       "      <th>author</th>\n",
       "      <th>email</th>\n",
       "    </tr>\n",
       "  </thead>\n",
       "  <tbody>\n",
       "    <tr>\n",
       "      <th>0</th>\n",
       "      <td>Mon Jul 1 19:53:51 2019 +0200</td>\n",
       "      <td>Jakob Müller</td>\n",
       "      <td>j.mueller@outlook.de</td>\n",
       "    </tr>\n",
       "    <tr>\n",
       "      <th>1</th>\n",
       "      <td>Sun Jun 23 19:35:52 2019 +0200</td>\n",
       "      <td>Jakob Müller</td>\n",
       "      <td>j.mueller@outlook.de</td>\n",
       "    </tr>\n",
       "    <tr>\n",
       "      <th>2</th>\n",
       "      <td>Thu Jun 20 19:16:13 2019 +0200</td>\n",
       "      <td>Jakob Müller</td>\n",
       "      <td>j.mueller@outlook.de</td>\n",
       "    </tr>\n",
       "    <tr>\n",
       "      <th>3</th>\n",
       "      <td>Thu Jun 20 17:45:52 2019 +0200</td>\n",
       "      <td>Jakob Müller</td>\n",
       "      <td>j.mueller@outlook.de</td>\n",
       "    </tr>\n",
       "    <tr>\n",
       "      <th>4</th>\n",
       "      <td>Sun Jun 16 08:49:39 2019 +0200</td>\n",
       "      <td>Lukas Juhrich</td>\n",
       "      <td>lukas.juhrich@agdsn.de</td>\n",
       "    </tr>\n",
       "  </tbody>\n",
       "</table>\n",
       "</div>"
      ],
      "text/plain": [
       "                        timestamp         author                   email\n",
       "0   Mon Jul 1 19:53:51 2019 +0200   Jakob Müller    j.mueller@outlook.de\n",
       "1  Sun Jun 23 19:35:52 2019 +0200   Jakob Müller    j.mueller@outlook.de\n",
       "2  Thu Jun 20 19:16:13 2019 +0200   Jakob Müller    j.mueller@outlook.de\n",
       "3  Thu Jun 20 17:45:52 2019 +0200   Jakob Müller    j.mueller@outlook.de\n",
       "4  Sun Jun 16 08:49:39 2019 +0200  Lukas Juhrich  lukas.juhrich@agdsn.de"
      ]
     },
     "execution_count": 4,
     "metadata": {},
     "output_type": "execute_result"
    }
   ],
   "source": [
    "git_log.head()"
   ]
  },
  {
   "cell_type": "code",
   "execution_count": 5,
   "metadata": {},
   "outputs": [
    {
     "data": {
      "text/plain": [
       "<matplotlib.axes._subplots.AxesSubplot at 0x7f57ffc83550>"
      ]
     },
     "execution_count": 5,
     "metadata": {},
     "output_type": "execute_result"
    },
    {
     "data": {
      "image/png": "[encoded data removed]",
      "text/plain": [
       "<Figure size 432x288 with 1 Axes>"
      ]
     },
     "metadata": {
      "needs_background": "light"
     },
     "output_type": "display_data"
    }
   ],
   "source": [
    "git_log.author.value_counts().head(15).plot.bar()"
   ]
  },
  {
   "cell_type": "code",
   "execution_count": 6,
   "metadata": {},
   "outputs": [],
   "source": [
    "git_log.timestamp = pd.to_datetime(git_log.timestamp, utc=True)"
   ]
  },
  {
   "cell_type": "code",
   "execution_count": 7,
   "metadata": {},
   "outputs": [
    {
     "data": {
      "text/plain": [
       "<matplotlib.axes._subplots.AxesSubplot at 0x7f57ffb799e8>"
      ]
     },
     "execution_count": 7,
     "metadata": {},
     "output_type": "execute_result"
    },
    {
     "data": {
      "image/png": "[encoded data removed]",
      "text/plain": [
       "<Figure size 432x288 with 1 Axes>"
      ]
     },
     "metadata": {
      "needs_background": "light"
     },
     "output_type": "display_data"
    }
   ],
   "source": [
    "commits_per_hour = git_log.timestamp.dt.hour.value_counts().sort_index()\n",
    "commits_per_hour.head()\n",
    "\n",
    "commits_per_hour.plot.bar(title=\"All Authors\")"
   ]
  },
  {
   "cell_type": "code",
   "execution_count": 9,
   "metadata": {},
   "outputs": [
    {
     "data": {
      "application/vnd.jupyter.widget-view+json": {
       "model_id": "950d7e5e27f94f0e8acf8e2acafe0d55",
       "version_major": 2,
       "version_minor": 0
      },
      "text/plain": [
       "interactive(children=(Dropdown(description='author', options=(None, 'Lukas Juhrich', 'Sebastian Schrader', 'Ja…"
      ]
     },
     "metadata": {},
     "output_type": "display_data"
    }
   ],
   "source": [
    "@interact(log=fixed(git_log), author=[None] + git_log.author.value_counts().index.to_list())\n",
    "def author_bars(log, author=None):\n",
    "    log = git_log if not author else git_log.loc[git_log.author == author]\n",
    "    hour_series = log.timestamp.dt.hour.value_counts().sort_index()\n",
    "    consolidated = (hour_series + pd.Series([0]*24)).fillna(0)\n",
    "    return consolidated.plot.bar(title=author or \"All authors\")"
   ]
  }
 ],
 "metadata": {
  "kernelspec": {
   "display_name": "Python 3",
   "language": "python",
   "name": "python3"
  },
  "language_info": {
   "codemirror_mode": {
    "name": "ipython",
    "version": 3
   },
   "file_extension": ".py",
   "mimetype": "text/x-python",
   "name": "python",
   "nbconvert_exporter": "python",
   "pygments_lexer": "ipython3",
   "version": "3.7.0"
  }
 },
 "nbformat": 4,
 "nbformat_minor": 4
}
